{
 "cells": [
  {
   "cell_type": "markdown",
   "metadata": {},
   "source": [
    "# Attributes demo\n",
    "\n",
    "This notebook demonstrates the attributes that are generated when a HoboReader instance reads in a csv file."
   ]
  },
  {
   "cell_type": "code",
   "execution_count": 1,
   "metadata": {},
   "outputs": [],
   "source": [
    "from hoboreader import HoboReader\n",
    "h=HoboReader('sample_hobo_data.csv')"
   ]
  },
  {
   "cell_type": "code",
   "execution_count": 2,
   "metadata": {},
   "outputs": [
    {
     "data": {
      "text/plain": [
       "<_csv.reader at 0x21c1584e6c8>"
      ]
     },
     "execution_count": 2,
     "metadata": {},
     "output_type": "execute_result"
    }
   ],
   "source": [
    "h.reader # a Python csv.reader object"
   ]
  },
  {
   "cell_type": "code",
   "execution_count": 3,
   "metadata": {},
   "outputs": [
    {
     "data": {
      "text/plain": [
       "['#',\n",
       " 'Date Time, GMT+01:00',\n",
       " 'Temp, Â°F (LGR S/N: 10469238, SEN S/N: 10469238)',\n",
       " 'Coupler Detached (LGR S/N: 10469238)',\n",
       " 'Coupler Attached (LGR S/N: 10469238)',\n",
       " 'Host Connected (LGR S/N: 10469238)',\n",
       " 'Stopped (LGR S/N: 10469238)',\n",
       " 'End Of File (LGR S/N: 10469238)']"
      ]
     },
     "execution_count": 3,
     "metadata": {},
     "output_type": "execute_result"
    }
   ],
   "source": [
    "h.header_row # a list of the header row of the csv file"
   ]
  },
  {
   "cell_type": "code",
   "execution_count": 4,
   "metadata": {
    "scrolled": true
   },
   "outputs": [
    {
     "data": {
      "text/plain": [
       "[{'column': 0,\n",
       "  'title': '#',\n",
       "  'timezone_str': None,\n",
       "  'units': None,\n",
       "  'logger_serial_number': None,\n",
       "  'sensor_serial_number': None},\n",
       " {'column': 1,\n",
       "  'title': 'Date Time',\n",
       "  'timezone_str': 'GMT+01:00',\n",
       "  'units': None,\n",
       "  'logger_serial_number': None,\n",
       "  'sensor_serial_number': None}]"
      ]
     },
     "execution_count": 4,
     "metadata": {},
     "output_type": "execute_result"
    }
   ],
   "source": [
    "hl=h.header_list # a list of dictionaries with the header row information\n",
    "hl[:2] # displays the first 2 items"
   ]
  },
  {
   "cell_type": "code",
   "execution_count": 5,
   "metadata": {},
   "outputs": [
    {
     "data": {
      "text/plain": [
       "'GMT+01:00'"
      ]
     },
     "execution_count": 5,
     "metadata": {},
     "output_type": "execute_result"
    }
   ],
   "source": [
    "h.hobo_timezone_str # a string of the timezone as expressed in the header row"
   ]
  },
  {
   "cell_type": "code",
   "execution_count": 6,
   "metadata": {},
   "outputs": [
    {
     "data": {
      "text/plain": [
       "datetime.timezone(datetime.timedelta(seconds=3600), 'GMT+01:00')"
      ]
     },
     "execution_count": 6,
     "metadata": {},
     "output_type": "execute_result"
    }
   ],
   "source": [
    "h.timezone # a Python datetime.timezone instance"
   ]
  },
  {
   "cell_type": "code",
   "execution_count": 7,
   "metadata": {},
   "outputs": [
    {
     "data": {
      "text/plain": [
       "[['1', '10/10/19 11:00:00 AM', '72.199', '', '', '', '', ''],\n",
       " ['2', '10/10/19 11:00:02 AM', '', 'Logged', '', '', '', ''],\n",
       " ['3', '10/10/19 11:05:00 AM', '72.545', '', '', '', '', ''],\n",
       " ['4', '10/10/19 11:10:00 AM', '72.372', '', '', '', '', ''],\n",
       " ['5', '10/10/19 11:15:00 AM', '72.545', '', '', '', '', '']]"
      ]
     },
     "execution_count": 7,
     "metadata": {},
     "output_type": "execute_result"
    }
   ],
   "source": [
    "hr=h.data_rows # a list of each row of the timeseries measured data\n",
    "hr[:5] #display first 5 rows"
   ]
  },
  {
   "cell_type": "code",
   "execution_count": 8,
   "metadata": {},
   "outputs": [
    {
     "data": {
      "text/plain": [
       "[('1', '2', '3', '4', '5'),\n",
       " ('10/10/19 11:00:00 AM',\n",
       "  '10/10/19 11:00:02 AM',\n",
       "  '10/10/19 11:05:00 AM',\n",
       "  '10/10/19 11:10:00 AM',\n",
       "  '10/10/19 11:15:00 AM'),\n",
       " ('72.199', '', '72.545', '72.372', '72.545'),\n",
       " ('', 'Logged', '', '', ''),\n",
       " ('', '', '', '', ''),\n",
       " ('', '', '', '', ''),\n",
       " ('', '', '', '', ''),\n",
       " ('', '', '', '', '')]"
      ]
     },
     "execution_count": 8,
     "metadata": {},
     "output_type": "execute_result"
    }
   ],
   "source": [
    "hc=h.data_columns # a list of each column of the timeseries measured data\n",
    "[c[:5] for c in hc] # display first 5 items in each column"
   ]
  },
  {
   "cell_type": "code",
   "execution_count": 9,
   "metadata": {},
   "outputs": [
    {
     "data": {
      "text/plain": [
       "[datetime.datetime(2019, 10, 10, 11, 0, tzinfo=datetime.timezone(datetime.timedelta(seconds=3600), 'GMT+01:00')),\n",
       " datetime.datetime(2019, 10, 10, 11, 0, 2, tzinfo=datetime.timezone(datetime.timedelta(seconds=3600), 'GMT+01:00')),\n",
       " datetime.datetime(2019, 10, 10, 11, 5, tzinfo=datetime.timezone(datetime.timedelta(seconds=3600), 'GMT+01:00')),\n",
       " datetime.datetime(2019, 10, 10, 11, 10, tzinfo=datetime.timezone(datetime.timedelta(seconds=3600), 'GMT+01:00')),\n",
       " datetime.datetime(2019, 10, 10, 11, 15, tzinfo=datetime.timezone(datetime.timedelta(seconds=3600), 'GMT+01:00'))]"
      ]
     },
     "execution_count": 9,
     "metadata": {},
     "output_type": "execute_result"
    }
   ],
   "source": [
    "dt=h.datetimes # a list of the timestamps converted to Python datetime.datetime instances\n",
    "dt[:5] # display first 5 items"
   ]
  }
 ],
 "metadata": {
  "kernelspec": {
   "display_name": "Python 3",
   "language": "python",
   "name": "python3"
  },
  "language_info": {
   "codemirror_mode": {
    "name": "ipython",
    "version": 3
   },
   "file_extension": ".py",
   "mimetype": "text/x-python",
   "name": "python",
   "nbconvert_exporter": "python",
   "pygments_lexer": "ipython3",
   "version": "3.7.3"
  }
 },
 "nbformat": 4,
 "nbformat_minor": 2
}
